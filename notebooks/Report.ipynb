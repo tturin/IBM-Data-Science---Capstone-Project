{
 "cells": [
  {
   "cell_type": "markdown",
   "metadata": {},
   "source": [
    "# IBM Data Science - Applied Capstone Report"
   ]
  },
  {
   "cell_type": "markdown",
   "metadata": {},
   "source": [
    "## 1 Introduction/Business Problem"
   ]
  },
  {
   "cell_type": "markdown",
   "metadata": {},
   "source": [
    "Brisbane is the capital of the state of Queensland, AU. It has a population of over 3.6 million, including Greater Brisbane, with young adults (aged 20-34) making up around 25%. The percentage of the population that has university-level education is higher than the Australian average.\n",
    "\n",
    "There are many young professionals (including students) that are interested in what the city has to offer. In this report, the best neighbourhoods, for young professionals to live in, will be explored. Each neighbourhood in the Greater Brisbane area will be analysed with venue data and with property rental data (as levels of income).\n",
    "\n",
    "Since the target audience is young professionals, there will be a focus on closeness and ease of access to public transportation, grocery stores, cafes/bars, restaurants, and entertainment."
   ]
  },
  {
   "cell_type": "markdown",
   "metadata": {},
   "source": [
    "## 2 Data"
   ]
  },
  {
   "cell_type": "markdown",
   "metadata": {},
   "source": [
    "### 2.1 Data Sources"
   ]
  },
  {
   "cell_type": "markdown",
   "metadata": {},
   "source": [
    "#### Foursquare"
   ]
  },
  {
   "cell_type": "markdown",
   "metadata": {},
   "source": [
    "Foursquare will be used to collect venue information in each neighbourhood. To retrieve information from Foursquare, the Foursquare API will be used to collect the following data about each venue:\n",
    "    - Name\n",
    "    - Category\n",
    "    - Location (latitude and longitude)"
   ]
  },
  {
   "cell_type": "markdown",
   "metadata": {},
   "source": [
    "#### Brisbane Suburbs"
   ]
  },
  {
   "cell_type": "markdown",
   "metadata": {},
   "source": [
    "For a list of Brisbane Suburbs: https://en.wikipedia.org/wiki/List_of_Brisbane_suburbs"
   ]
  },
  {
   "cell_type": "markdown",
   "metadata": {},
   "source": [
    "To collect the location (latitude and longitude) of the boroughs, the Google Maps API was used by providing the name of the borough and the location is returned."
   ]
  },
  {
   "cell_type": "markdown",
   "metadata": {},
   "source": [
    "For GeoJSON data on Brisbane Suburbs (needs to be cleaned to remove suburbs not in Brisbane): https://data.gov.au/dataset/ds-dga-6bedcb55-1b1f-457b-b092-58e88952e9f0/details"
   ]
  },
  {
   "cell_type": "markdown",
   "metadata": {},
   "source": [
    "#### Rental Data"
   ]
  },
  {
   "cell_type": "markdown",
   "metadata": {},
   "source": [
    "For quarterly rental data sorted by property type: https://www.rta.qld.gov.au/forms-resources/median-rents-quick-finder/median-rents-quarterly-data/2020-median-rents-quarterly"
   ]
  }
 ],
 "metadata": {
  "kernelspec": {
   "display_name": "Python 3",
   "language": "python",
   "name": "python3"
  },
  "language_info": {
   "codemirror_mode": {
    "name": "ipython",
    "version": 3
   },
   "file_extension": ".py",
   "mimetype": "text/x-python",
   "name": "python",
   "nbconvert_exporter": "python",
   "pygments_lexer": "ipython3",
   "version": "3.8.5"
  }
 },
 "nbformat": 4,
 "nbformat_minor": 4
}
